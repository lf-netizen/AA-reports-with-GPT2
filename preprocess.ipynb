{
 "cells": [
  {
   "cell_type": "code",
   "execution_count": 1,
   "metadata": {},
   "outputs": [],
   "source": [
    "import re\n",
    "import PyPDF2\n",
    "import os\n",
    "import pandas as pd\n",
    "from datasets import Dataset, DatasetDict\n",
    "import numpy as np"
   ]
  },
  {
   "cell_type": "code",
   "execution_count": 2,
   "metadata": {},
   "outputs": [],
   "source": [
    "def visitor_body(text, cm, tm, fontDict, fontSize):\n",
    "    y = tm[5]\n",
    "    if y > 50 and y < 720:\n",
    "        parts.append(text)"
   ]
  },
  {
   "cell_type": "code",
   "execution_count": 3,
   "metadata": {},
   "outputs": [],
   "source": [
    "reader = PyPDF2.PdfReader(\"data/Instrukcje Aparatura Automatyzacji.pdf\")\n",
    "\n",
    "parts = []\n",
    "for page in reader.pages[2:]:\n",
    "    page.extract_text(visitor_text=visitor_body)\n",
    "text = \"\".join(parts)\n",
    "\n",
    "# replace special characters\n",
    "text = re.sub(r'[^A-Za-z0-9 ,.\\nęóąśłżźćńĘÓĄŚŁŻŹĆŃ]+', '', text)\n",
    "# remove tables\n",
    "text = re.sub(r'Tabela [0-9](.*?)\\n \\n', '', text, flags=re.DOTALL)\n",
    "# remove white spaces and newlines\n",
    "text = text.replace('\\n', ' ')\n",
    "text = re.sub(r'\\s+', ' ', text)\n",
    "\n",
    "df_fromdict = []\n",
    "for num_task, content in enumerate(re.split(r'Ćwiczenie [0-9]', text)[1:]):\n",
    "    content = re.sub(r'[0-9]', '', content)\n",
    "    content = content.replace(' ', str(num_task))\n",
    "    df_fromdict.append({\n",
    "        'content': content[2:],\n",
    "        'num_task': num_task,\n",
    "        'type': 'instruction'\n",
    "    })\n",
    "\n",
    "# with open(\"preprocessed/instructions.txt\", \"w\") as text_file:\n",
    "#     text_file.write(''.join([d['content'] for d in df_fromdict]))"
   ]
  },
  {
   "cell_type": "code",
   "execution_count": 4,
   "metadata": {},
   "outputs": [],
   "source": [
    "full_text = ''\n",
    "for dir in next(os.walk('data'))[1]:\n",
    "    for filename in os.listdir(f'data/{dir}'):\n",
    "        num_task = re.findall('[0-9]', filename)[0]\n",
    "        reader = PyPDF2.PdfReader(f\"data/{dir}/{filename}\")\n",
    "        \n",
    "        parts = []\n",
    "        for page in reader.pages:\n",
    "            page.extract_text(visitor_text=visitor_body)\n",
    "        text = \"\".join(parts)\n",
    "        \n",
    "        # remove special characters\n",
    "        text = re.sub(r'[^A-Za-z0-9 ,.\\nęóąśłżźćńĘÓĄŚŁŻŹĆŃ]+', '', text)\n",
    "        # remove blank lines\n",
    "        text = text.replace('\\n', ' ')\n",
    "        text = re.sub(r'\\s+', ' ', text)\n",
    "        # delete numbers, replace spaces with task num\n",
    "        text = re.sub(r'[0-9]', '', text)\n",
    "        text = text.replace(' ', num_task)\n",
    "        # unify intro\n",
    "        # text = 'Wstęp' + re.sub(r'.*(Wstęp|WSTĘP|Cel ćwiczenia|Opis ćwiczenia|Opis konfiguracji sprzętu)', '', text, flags=re.DOTALL)\n",
    "        text = 'Wstęp' + re.sub(r'.*(Wst ep|Wstęp|WSTĘP|Cel ćwiczenia|Opis ćwiczenia|Opis konfiguracji sprzętu)', '', text, flags=re.DOTALL)\n",
    "        full_text += text\n",
    "        df_fromdict.append({\n",
    "            'content': text,\n",
    "            'num_task': int(num_task),\n",
    "            'type': 'report'\n",
    "        })\n",
    "\n",
    "# with open(\"preprocessed/reports.txt\", \"w\") as text_file:\n",
    "#     text_file.write(full_text)"
   ]
  },
  {
   "cell_type": "code",
   "execution_count": 5,
   "metadata": {},
   "outputs": [],
   "source": [
    "import pickle\n",
    "pickle_out = open('kaggle_pickle/df_data.pkl', 'wb')\n",
    "pickle.dump(df_fromdict, pickle_out)\n",
    "pickle_out.close()"
   ]
  }
 ],
 "metadata": {
  "kernelspec": {
   "display_name": "ml",
   "language": "python",
   "name": "python3"
  },
  "language_info": {
   "codemirror_mode": {
    "name": "ipython",
    "version": 3
   },
   "file_extension": ".py",
   "mimetype": "text/x-python",
   "name": "python",
   "nbconvert_exporter": "python",
   "pygments_lexer": "ipython3",
   "version": "3.10.8 | packaged by conda-forge | (main, Nov 24 2022, 14:07:00) [MSC v.1916 64 bit (AMD64)]"
  },
  "orig_nbformat": 4,
  "vscode": {
   "interpreter": {
    "hash": "661d60981a8180246504a9562268f79cf2915497a26a99308f4a10e22604b72f"
   }
  }
 },
 "nbformat": 4,
 "nbformat_minor": 2
}
